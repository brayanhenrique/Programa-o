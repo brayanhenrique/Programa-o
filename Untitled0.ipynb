{
  "nbformat": 4,
  "nbformat_minor": 0,
  "metadata": {
    "colab": {
      "provenance": [],
      "authorship_tag": "ABX9TyO+Pkki4JZUkuSfX37+wolf",
      "include_colab_link": true
    },
    "kernelspec": {
      "name": "python3",
      "display_name": "Python 3"
    },
    "language_info": {
      "name": "python"
    }
  },
  "cells": [
    {
      "cell_type": "markdown",
      "metadata": {
        "id": "view-in-github",
        "colab_type": "text"
      },
      "source": [
        "<a href=\"https://colab.research.google.com/github/brayanhenrique/Programa-o/blob/main/Untitled0.ipynb\" target=\"_parent\"><img src=\"https://colab.research.google.com/assets/colab-badge.svg\" alt=\"Open In Colab\"/></a>"
      ]
    },
    {
      "cell_type": "markdown",
      "source": [
        "Brayan,Guilherme e Mátias\n"
      ],
      "metadata": {
        "id": "qmvDVhmgMhDc"
      }
    },
    {
      "cell_type": "markdown",
      "source": [
        "Primeiro modelo gan de IA. É utilizado para aprendizado de máquina para gerar novos dados semelhantes á um conjunto de dados de treinamento."
      ],
      "metadata": {
        "id": "7qK1o6XKCbCA"
      }
    },
    {
      "cell_type": "code",
      "execution_count": 1,
      "metadata": {
        "id": "bGXDrkkczgPg",
        "colab": {
          "base_uri": "https://localhost:8080/"
        },
        "outputId": "d54f41b7-f9e2-44ba-b8e4-79854ed4bbd0"
      },
      "outputs": [
        {
          "output_type": "stream",
          "name": "stderr",
          "text": [
            "/usr/local/lib/python3.10/dist-packages/keras/src/layers/core/dense.py:87: UserWarning: Do not pass an `input_shape`/`input_dim` argument to a layer. When using Sequential models, prefer using an `Input(shape)` object as the first layer in the model instead.\n",
            "  super().__init__(activity_regularizer=activity_regularizer, **kwargs)\n"
          ]
        }
      ],
      "source": [
        "#Importando as blibiotecas que vou usar\n",
        "import tensorflow as tf\n",
        "from tensorflow.keras import layers\n",
        "\n",
        "#função para criar um gerador\n",
        "def build_generator(latent_dim, output_shape):\n",
        "  model = tf.keras.Sequential()\n",
        "  model.add(layers.Dense(256, input_dim=latent_dim, activation=\"relu\"))\n",
        "  model.add(layers.BatchNormalization())\n",
        "  model.add(layers.Dense(512, activation=\"relu\"))\n",
        "  model.add(layers.BatchNormalization())\n",
        "  model.add(layers.Dense(1024, activation=\"relu\"))\n",
        "  model.add(layers.BatchNormalization())\n",
        "  model.add(layers.Dense(output_shape, activation=\"tanh\"))\n",
        "  return model\n",
        "\n",
        "#função para criar o discriminador\n",
        "def build_discriminator(input_shape):\n",
        "    model = tf.keras.Sequential()\n",
        "    model.add(layers.Dense(1024, input_shape=(input_shape), activation=\"relu\"))\n",
        "    model.add(layers.Dropout(0.3))\n",
        "    model.add(layers.Dense(512, activation=\"relu\"))\n",
        "    model.add(layers.Dropout(0.3))\n",
        "    model.add(layers.Dense(256, activation=\"relu\"))\n",
        "    model.add(layers.Dropout(0.3))\n",
        "    model.add(layers.Dense(1, activation= \"sigmoid\"))\n",
        "    return model\n",
        "\n",
        "#função modelo gan\n",
        "def build_gan(generator , discriminator):\n",
        "  discriminator.trainable = False\n",
        "  model = tf.keras.Sequential()\n",
        "  model.add(generator)\n",
        "  model.add(discriminator)\n",
        "  return model\n",
        "\n",
        "#dimenções\n",
        "latent_dim = 100\n",
        "output_shape = (28, 28, 1)\n",
        "\n",
        "#criando as intâncias\n",
        "generator = build_generator(latent_dim, 784)\n",
        "discriminator = build_discriminator(output_shape)\n",
        "gan = build_gan(generator, discriminator)\n",
        "\n",
        "#compilações\n",
        "#generator.compile(loss=\"binary_crossentropy\", optimizer = \"adam\")\n",
        "discriminator.compile(loss = \"binary_crossentropy\", optimizer = \"adam\", metrics=[\"accuracy\"])\n",
        "gan.compile(loss=\"binary_crossentropy\", optimizer =\"adam\")\n"
      ]
    },
    {
      "cell_type": "markdown",
      "source": [
        "Este código uma vez treinado pode gerar novos que parecem pertercer ao mesmo conjunto de dados que foi usado para treinamento, como imagens que se assemelha a digitos manuscritos (por exemplo, MNIIST)"
      ],
      "metadata": {
        "id": "ewTaZK82Ddm_"
      }
    },
    {
      "cell_type": "code",
      "source": [],
      "metadata": {
        "id": "7HvvPKb9MEkk"
      },
      "execution_count": null,
      "outputs": []
    }
  ]
}